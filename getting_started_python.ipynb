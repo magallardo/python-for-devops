{
  "nbformat": 4,
  "nbformat_minor": 0,
  "metadata": {
    "colab": {
      "provenance": [],
      "toc_visible": true,
      "authorship_tag": "ABX9TyPE6nJ1D1K0lvaFUbssvbvq",
      "include_colab_link": true
    },
    "kernelspec": {
      "name": "python3",
      "display_name": "Python 3"
    },
    "language_info": {
      "name": "python"
    }
  },
  "cells": [
    {
      "cell_type": "markdown",
      "metadata": {
        "id": "view-in-github",
        "colab_type": "text"
      },
      "source": [
        "<a href=\"https://colab.research.google.com/github/magallardo/python-for-devops/blob/main/getting_started_python.ipynb\" target=\"_parent\"><img src=\"https://colab.research.google.com/assets/colab-badge.svg\" alt=\"Open In Colab\"/></a>"
      ]
    },
    {
      "cell_type": "markdown",
      "source": [
        "## Introduction to Python"
      ],
      "metadata": {
        "id": "wCv9MySzd4uq"
      }
    },
    {
      "cell_type": "markdown",
      "source": [
        "### Statements in Python"
      ],
      "metadata": {
        "id": "zNKV7EfkenCT"
      }
    },
    {
      "cell_type": "code",
      "source": [
        "print(\"hello world\")"
      ],
      "metadata": {
        "colab": {
          "base_uri": "https://localhost:8080/"
        },
        "id": "UhUjvzzMe2B6",
        "outputId": "43501d24-ca92-4f2c-9170-b793c02a9586"
      },
      "execution_count": 1,
      "outputs": [
        {
          "output_type": "stream",
          "name": "stdout",
          "text": [
            "hello world\n"
          ]
        }
      ]
    },
    {
      "cell_type": "code",
      "source": [
        "name = \"marcelo\"\n",
        "print(f\"hello {name}\")"
      ],
      "metadata": {
        "colab": {
          "base_uri": "https://localhost:8080/"
        },
        "id": "UIDAQTMPfKvi",
        "outputId": "e3827778-3d69-41ff-ee18-09c759e6e2ad"
      },
      "execution_count": 2,
      "outputs": [
        {
          "output_type": "stream",
          "name": "stdout",
          "text": [
            "hello marcelo\n"
          ]
        }
      ]
    },
    {
      "cell_type": "markdown",
      "source": [
        "### Data Structures: Lists and Dictionaries"
      ],
      "metadata": {
        "id": "QDqviNg5fin3"
      }
    },
    {
      "cell_type": "markdown",
      "source": [
        "#### List"
      ],
      "metadata": {
        "id": "H-MVocERhELy"
      }
    },
    {
      "cell_type": "code",
      "source": [
        "fruit = [\"apple\", \"pear\", \"strawberry\"]"
      ],
      "metadata": {
        "id": "4K_jrAfOf4Op"
      },
      "execution_count": 3,
      "outputs": []
    },
    {
      "cell_type": "code",
      "source": [
        "type(fruit)"
      ],
      "metadata": {
        "colab": {
          "base_uri": "https://localhost:8080/"
        },
        "id": "xE7qs1jrgIv7",
        "outputId": "55afcb0f-8140-49a1-b2d3-898bd4785a49"
      },
      "execution_count": 4,
      "outputs": [
        {
          "output_type": "execute_result",
          "data": {
            "text/plain": [
              "list"
            ]
          },
          "metadata": {},
          "execution_count": 4
        }
      ]
    },
    {
      "cell_type": "code",
      "source": [
        "fruit[0]"
      ],
      "metadata": {
        "colab": {
          "base_uri": "https://localhost:8080/",
          "height": 35
        },
        "id": "6Emzz9KUgXnb",
        "outputId": "44621b10-89b9-4e80-d88d-a819d9774ca7"
      },
      "execution_count": 5,
      "outputs": [
        {
          "output_type": "execute_result",
          "data": {
            "text/plain": [
              "'apple'"
            ],
            "application/vnd.google.colaboratory.intrinsic+json": {
              "type": "string"
            }
          },
          "metadata": {},
          "execution_count": 5
        }
      ]
    },
    {
      "cell_type": "code",
      "source": [
        "fruit[:-1]"
      ],
      "metadata": {
        "colab": {
          "base_uri": "https://localhost:8080/"
        },
        "id": "LhAkm_7dgbhs",
        "outputId": "ef0c067c-f488-488b-f496-49f8f038c9af"
      },
      "execution_count": 6,
      "outputs": [
        {
          "output_type": "execute_result",
          "data": {
            "text/plain": [
              "['apple', 'pear']"
            ]
          },
          "metadata": {},
          "execution_count": 6
        }
      ]
    },
    {
      "cell_type": "code",
      "source": [
        "for my_fruit in fruit:\n",
        "  print(f\"This is my favority fruit: {my_fruit}\")"
      ],
      "metadata": {
        "colab": {
          "base_uri": "https://localhost:8080/"
        },
        "id": "TpqXvi_Lgg_N",
        "outputId": "127dd351-ffaf-41ea-a06e-b39d969b2943"
      },
      "execution_count": 7,
      "outputs": [
        {
          "output_type": "stream",
          "name": "stdout",
          "text": [
            "This is my favority fruit: apple\n",
            "This is my favority fruit: pear\n",
            "This is my favority fruit: strawberry\n"
          ]
        }
      ]
    },
    {
      "cell_type": "markdown",
      "source": [
        "#### Dictionary"
      ],
      "metadata": {
        "id": "30lkZ0D_hJTu"
      }
    },
    {
      "cell_type": "code",
      "source": [
        "meal = {\"breakfast\": \"black coffe\", \"lunch\": \"salad\", \"dinner\": \"rice and beans\"}"
      ],
      "metadata": {
        "id": "GHUy1J3GhNes"
      },
      "execution_count": 8,
      "outputs": []
    },
    {
      "cell_type": "code",
      "source": [
        "meal.keys()"
      ],
      "metadata": {
        "colab": {
          "base_uri": "https://localhost:8080/"
        },
        "id": "1EzwgfLYh5LG",
        "outputId": "fc64eb3c-3a3f-4ca8-cd23-31d0d566d9c1"
      },
      "execution_count": 9,
      "outputs": [
        {
          "output_type": "execute_result",
          "data": {
            "text/plain": [
              "dict_keys(['breakfast', 'lunch', 'dinner'])"
            ]
          },
          "metadata": {},
          "execution_count": 9
        }
      ]
    },
    {
      "cell_type": "code",
      "source": [
        "meal.values()"
      ],
      "metadata": {
        "colab": {
          "base_uri": "https://localhost:8080/"
        },
        "id": "49rL4a_riCB7",
        "outputId": "c8794cc9-9574-4be2-cd48-01f1625b1796"
      },
      "execution_count": 10,
      "outputs": [
        {
          "output_type": "execute_result",
          "data": {
            "text/plain": [
              "dict_values(['black coffe', 'salad', 'rice and beans'])"
            ]
          },
          "metadata": {},
          "execution_count": 10
        }
      ]
    },
    {
      "cell_type": "code",
      "source": [
        "for meal_name, meal_item in meal.items() :\n",
        "  print(f\"this meal {meal_name} is when I like to consume {meal_item}\")"
      ],
      "metadata": {
        "colab": {
          "base_uri": "https://localhost:8080/"
        },
        "id": "-vSuEQX7iHXu",
        "outputId": "12e76875-a1db-4042-a845-8e936c99eb77"
      },
      "execution_count": 11,
      "outputs": [
        {
          "output_type": "stream",
          "name": "stdout",
          "text": [
            "this meal breakfast is when I like to consume black coffe\n",
            "this meal lunch is when I like to consume salad\n",
            "this meal dinner is when I like to consume rice and beans\n"
          ]
        }
      ]
    }
  ]
}